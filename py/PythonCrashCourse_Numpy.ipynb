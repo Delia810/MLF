{
 "cells": [
  {
   "cell_type": "markdown",
   "metadata": {},
   "source": [
    "# Numpy Package"
   ]
  },
  {
   "cell_type": "code",
   "execution_count": 1,
   "metadata": {},
   "outputs": [],
   "source": [
    "import numpy as np\n",
    "import timeit"
   ]
  },
  {
   "cell_type": "markdown",
   "metadata": {},
   "source": [
    "## Document and Auto-completion in Jupyter"
   ]
  },
  {
   "cell_type": "code",
   "execution_count": null,
   "metadata": {},
   "outputs": [],
   "source": [
    "# np.[TAB]\n",
    "np.abs"
   ]
  },
  {
   "cell_type": "code",
   "execution_count": null,
   "metadata": {},
   "outputs": [],
   "source": [
    "# Help document\n",
    "np.random.normal"
   ]
  },
  {
   "cell_type": "code",
   "execution_count": null,
   "metadata": {},
   "outputs": [],
   "source": [
    "# [Sh-Tab] to show function arguments\n",
    "np.random.normal"
   ]
  },
  {
   "cell_type": "markdown",
   "metadata": {},
   "source": [
    "## Vector & Matrix"
   ]
  },
  {
   "cell_type": "code",
   "execution_count": 2,
   "metadata": {},
   "outputs": [
    {
     "name": "stdout",
     "output_type": "stream",
     "text": [
      "[0 1 2 3 4 5 6]\n",
      "1\n",
      "(7,)\n",
      "0 1 6\n",
      "[2 3 4] [4 5]\n",
      "[0 1] [3 4 5 6]\n"
     ]
    }
   ],
   "source": [
    "t = np.array([0, 1, 2, 3, 4, 5, 6])\n",
    "\n",
    "print(t)\n",
    "print(t.ndim) # rank\n",
    "print(t.shape) # shape\n",
    "print(t[0], t[1], t[-1])\n",
    "print(t[2:5], t[4:-1])\n",
    "print(t[:2], t[3:])"
   ]
  },
  {
   "cell_type": "markdown",
   "metadata": {},
   "source": [
    "## Matrix multiplication"
   ]
  },
  {
   "cell_type": "code",
   "execution_count": 27,
   "metadata": {},
   "outputs": [
    {
     "name": "stdout",
     "output_type": "stream",
     "text": [
      "[2 5 2] \n",
      " [[ 1.   0.7 -0.2]\n",
      " [ 0.2  1.   0.5]\n",
      " [ 0.2 -0.5  1. ]]\n"
     ]
    }
   ],
   "source": [
    "vec_x = np.array([2, 5, 2])\n",
    "mat_A = np.array([[1, 0.7, -0.2], [0.2, 1, 0.5], [0.2, -0.5, 1]])\n",
    "print(vec_x, '\\n', mat_A)"
   ]
  },
  {
   "cell_type": "code",
   "execution_count": null,
   "metadata": {},
   "outputs": [],
   "source": []
  },
  {
   "cell_type": "code",
   "execution_count": 4,
   "metadata": {},
   "outputs": [
    {
     "name": "stdout",
     "output_type": "stream",
     "text": [
      "[ 4 25  4] \n",
      "\n",
      "[[1.   0.49 0.04]\n",
      " [0.04 1.   0.25]\n",
      " [0.04 0.25 1.  ]] \n",
      "\n",
      "[[ 2.   3.5 -0.4]\n",
      " [ 0.4  5.   1. ]\n",
      " [ 0.4 -2.5  2. ]] \n",
      "\n",
      "[[ 2.   3.5 -0.4]\n",
      " [ 0.4  5.   1. ]\n",
      " [ 0.4 -2.5  2. ]] \n",
      "\n"
     ]
    }
   ],
   "source": [
    "# Vector * Vector (Matrix * Matrix): Component-wise\n",
    "print(vec_x * vec_x, '\\n')\n",
    "print(mat_A * mat_A, '\\n')\n",
    "\n",
    "# Matrix x Vector ??: component-wise in each vector\n",
    "print( mat_A * vec_x, '\\n')\n",
    "print( vec_x * mat_A, '\\n') # Same"
   ]
  },
  {
   "cell_type": "code",
   "execution_count": 6,
   "metadata": {},
   "outputs": [
    {
     "data": {
      "text/plain": [
       "array([[ 0,  1,  2,  3],\n",
       "       [ 4,  5,  6,  7],\n",
       "       [ 8,  9, 10, 11]])"
      ]
     },
     "execution_count": 6,
     "metadata": {},
     "output_type": "execute_result"
    }
   ],
   "source": [
    "np.arange(12).reshape((3,4))"
   ]
  },
  {
   "cell_type": "code",
   "execution_count": 9,
   "metadata": {},
   "outputs": [
    {
     "name": "stdout",
     "output_type": "stream",
     "text": [
      "[[ 0  1  2  3]\n",
      " [ 4  5  6  7]\n",
      " [ 8  9 10 11]] [0 1 2 3]\n"
     ]
    },
    {
     "data": {
      "text/plain": [
       "array([[ 0,  1,  4,  9],\n",
       "       [ 0,  5, 12, 21],\n",
       "       [ 0,  9, 20, 33]])"
      ]
     },
     "execution_count": 9,
     "metadata": {},
     "output_type": "execute_result"
    }
   ],
   "source": [
    "mat_B = np.arange(12).reshape((3,4))\n",
    "vec_y = np.arange(4)\n",
    "print(mat_B, vec_y)\n",
    "mat_B * vec_y "
   ]
  },
  {
   "cell_type": "code",
   "execution_count": null,
   "metadata": {},
   "outputs": [],
   "source": [
    "np.arange(12)"
   ]
  },
  {
   "cell_type": "code",
   "execution_count": 10,
   "metadata": {},
   "outputs": [
    {
     "name": "stdout",
     "output_type": "stream",
     "text": [
      "42\n",
      "42\n",
      "42\n"
     ]
    }
   ],
   "source": [
    "# Dot(inner) product\n",
    "vec_y = vec_x + 1\n",
    "print( np.dot(vec_x, vec_y) )\n",
    "print( vec_x.dot(vec_y) ) # same\n",
    "print( vec_x@vec_y )"
   ]
  },
  {
   "cell_type": "code",
   "execution_count": 12,
   "metadata": {
    "scrolled": true
   },
   "outputs": [
    {
     "name": "stdout",
     "output_type": "stream",
     "text": [
      "[[ 1.1   1.5  -0.05]\n",
      " [ 0.5   0.89  0.96]\n",
      " [ 0.3  -0.86  0.71]] \n",
      "\n",
      "[ 5.1  6.4 -0.1] \n",
      "\n",
      "[3.4 5.4 4.1]\n"
     ]
    }
   ],
   "source": [
    "# Matrix multiplication ?\n",
    "print(mat_A @ mat_A, '\\n')\n",
    "# print(np.matmul(mat_A, mat_A), '\\n')  # @ is exactly same as np.matmul\n",
    "\n",
    "print(mat_A @ vec_x, '\\n')  # vec_x is treated as a column vector\n",
    "\n",
    "print(vec_x @ mat_A) # vec_x is treated as a row vector"
   ]
  },
  {
   "cell_type": "code",
   "execution_count": 18,
   "metadata": {},
   "outputs": [
    {
     "name": "stdout",
     "output_type": "stream",
     "text": [
      "[[[2]\n",
      "  [5]\n",
      "  [2]]]\n"
     ]
    }
   ],
   "source": [
    "# Convert vecto to a matrix with single column\n",
    "vec_x_col = vec_x[None, :, None]\n",
    "print(vec_x_col)\n",
    "#print( np.reshape(vec_x,(3,1)) )\n",
    "#print( vec_x.reshape((3,1)) )"
   ]
  },
  {
   "cell_type": "code",
   "execution_count": 22,
   "metadata": {},
   "outputs": [
    {
     "name": "stdout",
     "output_type": "stream",
     "text": [
      "[0 1 2 3 4]\n"
     ]
    }
   ],
   "source": [
    "vec_x = np.arange(5)\n",
    "print(vec_x)"
   ]
  },
  {
   "cell_type": "code",
   "execution_count": 77,
   "metadata": {},
   "outputs": [
    {
     "data": {
      "text/plain": [
       "array([  4,   5, -99,   7])"
      ]
     },
     "execution_count": 77,
     "metadata": {},
     "output_type": "execute_result"
    }
   ],
   "source": [
    "vec_x"
   ]
  },
  {
   "cell_type": "code",
   "execution_count": 84,
   "metadata": {},
   "outputs": [
    {
     "data": {
      "text/plain": [
       "array([[  4],\n",
       "       [  5],\n",
       "       [-99],\n",
       "       [  7]])"
      ]
     },
     "execution_count": 84,
     "metadata": {},
     "output_type": "execute_result"
    }
   ],
   "source": [
    "vec_x[:,None]"
   ]
  },
  {
   "cell_type": "code",
   "execution_count": 85,
   "metadata": {},
   "outputs": [],
   "source": [
    "MAT=vec_x * vec_x[:,None]"
   ]
  },
  {
   "cell_type": "code",
   "execution_count": 94,
   "metadata": {},
   "outputs": [
    {
     "data": {
      "text/plain": [
       "array([[  20],\n",
       "       [  25],\n",
       "       [-495],\n",
       "       [  35]])"
      ]
     },
     "execution_count": 94,
     "metadata": {},
     "output_type": "execute_result"
    }
   ],
   "source": [
    "MAT[:,1,None]"
   ]
  },
  {
   "cell_type": "code",
   "execution_count": 28,
   "metadata": {},
   "outputs": [
    {
     "name": "stdout",
     "output_type": "stream",
     "text": [
      "[[ 1.   0.7 -0.2]\n",
      " [ 0.2  1.   0.5]\n",
      " [ 0.2 -0.5  1. ]] [2 5 2]\n"
     ]
    }
   ],
   "source": [
    "print(mat_A, vec_x)"
   ]
  },
  {
   "cell_type": "code",
   "execution_count": 29,
   "metadata": {},
   "outputs": [
    {
     "data": {
      "text/plain": [
       "array([[ 2. ,  1.4, -0.4],\n",
       "       [ 1. ,  5. ,  2.5],\n",
       "       [ 0.4, -1. ,  2. ]])"
      ]
     },
     "execution_count": 29,
     "metadata": {},
     "output_type": "execute_result"
    }
   ],
   "source": [
    "mat_A * vec_x[:, None]"
   ]
  },
  {
   "cell_type": "markdown",
   "metadata": {},
   "source": [
    "## N-d Array Initialization"
   ]
  },
  {
   "cell_type": "code",
   "execution_count": 40,
   "metadata": {},
   "outputs": [
    {
     "name": "stdout",
     "output_type": "stream",
     "text": [
      "[[1. 1. 1.]\n",
      " [1. 1. 1.]\n",
      " [1. 1. 1.]]\n"
     ]
    }
   ],
   "source": [
    "vec_y = np.ones(10)\n",
    "vec_z = np.zeros((5,3), dtype=int)\n",
    "#print(vec_z)\n",
    "\n",
    "#mat_B = np.zeros((3,3))\n",
    "mat_B = np.zeros_like(mat_A)\n",
    "mat_B = np.ones_like(mat_A)\n",
    "print(mat_B)\n",
    "\n",
    "x_norm = np.random.normal(10,2,size=(10000,5))\n",
    "x_unif = np.random.uniform(size=(10000,5))"
   ]
  },
  {
   "cell_type": "code",
   "execution_count": 41,
   "metadata": {},
   "outputs": [
    {
     "data": {
      "text/plain": [
       "array([[10.32938219, 10.86334486, 11.70392276,  6.51931742, 10.63988321],\n",
       "       [10.74350862, 11.53023134, 12.21618139, 11.93899788, 11.19812745],\n",
       "       [11.72992893, 12.0186181 , 11.25138556,  8.43387605,  9.61142472],\n",
       "       ...,\n",
       "       [ 7.67817069,  7.76068547, 13.43473496, 11.5273975 ,  8.79016843],\n",
       "       [ 9.15878495, 10.48305623, 10.3948136 ,  6.92776276, 10.28542298],\n",
       "       [11.45389876,  8.29075555, 10.11613289,  8.67331913,  8.94149328]])"
      ]
     },
     "execution_count": 41,
     "metadata": {},
     "output_type": "execute_result"
    }
   ],
   "source": [
    "x_norm"
   ]
  },
  {
   "cell_type": "code",
   "execution_count": null,
   "metadata": {},
   "outputs": [],
   "source": []
  },
  {
   "cell_type": "markdown",
   "metadata": {},
   "source": [
    "## Operations on Matrix (N-d array)"
   ]
  },
  {
   "cell_type": "code",
   "execution_count": 43,
   "metadata": {},
   "outputs": [
    {
     "name": "stdout",
     "output_type": "stream",
     "text": [
      "[10.01117009 11.52540934 10.60904667 ...  9.83823141  9.4499681\n",
      "  9.49511992]\n",
      "[1.80450479 0.52282443 1.36985289 ... 2.27458195 1.34939219 1.15367449]\n"
     ]
    }
   ],
   "source": [
    "# Axis 0: Column, Axis 1: Row\n",
    "print( np.mean(x_norm, axis=1) )\n",
    "print( np.std(x_norm, axis=1) )"
   ]
  },
  {
   "cell_type": "code",
   "execution_count": 44,
   "metadata": {},
   "outputs": [
    {
     "name": "stdout",
     "output_type": "stream",
     "text": [
      "10.003161228082652\n",
      "[ 9.99466389 10.01879572 10.00108518  9.97666043 10.02460091]\n",
      "[10.01117009 11.52540934 10.60904667 ...  9.83823141  9.4499681\n",
      "  9.49511992]\n",
      "10.003161228082652\n"
     ]
    }
   ],
   "source": [
    "print( np.mean(x_norm) )\n",
    "print( np.mean(x_norm,axis=0) )\n",
    "print( np.mean(x_norm,axis=1) )\n",
    "print( np.mean(x_norm,axis=(0,1)) )"
   ]
  },
  {
   "cell_type": "code",
   "execution_count": 45,
   "metadata": {},
   "outputs": [
    {
     "data": {
      "text/plain": [
       "array([[-1, -1,  1, ..., -1,  1,  1],\n",
       "       [-1, -1, -1, ...,  1, -1,  1],\n",
       "       [-1, -1,  1, ..., -1,  1,  1],\n",
       "       ...,\n",
       "       [-1,  1,  1, ...,  1,  1,  1],\n",
       "       [-1,  1,  1, ...,  1,  1, -1],\n",
       "       [-1,  1,  1, ..., -1,  1,  1]])"
      ]
     },
     "execution_count": 45,
     "metadata": {},
     "output_type": "execute_result"
    }
   ],
   "source": [
    "# Random Walk Simulation\n",
    "x_rw = np.random.binomial(1,0.5,size=(1000,10))*2 - 1\n",
    "x_rw"
   ]
  },
  {
   "cell_type": "code",
   "execution_count": 46,
   "metadata": {},
   "outputs": [
    {
     "name": "stdout",
     "output_type": "stream",
     "text": [
      "[[ -1  -1   1 ...  -1   1   1]\n",
      " [ -2  -2   0 ...   0   0   2]\n",
      " [ -3  -3   1 ...  -1   1   3]\n",
      " ...\n",
      " [ 12  20 -48 ...  -6 -42  62]\n",
      " [ 11  21 -47 ...  -5 -41  61]\n",
      " [ 10  22 -46 ...  -6 -40  62]]\n"
     ]
    }
   ],
   "source": [
    "x_cum = np.cumsum(x_rw, axis=0)\n",
    "print(x_cum)"
   ]
  },
  {
   "cell_type": "code",
   "execution_count": 47,
   "metadata": {},
   "outputs": [],
   "source": [
    "%matplotlib inline\n",
    "import matplotlib.pyplot as plt"
   ]
  },
  {
   "cell_type": "code",
   "execution_count": 48,
   "metadata": {},
   "outputs": [
    {
     "data": {
      "text/plain": [
       "[<matplotlib.lines.Line2D at 0x2130ad84ac0>,\n",
       " <matplotlib.lines.Line2D at 0x2130ad84b80>,\n",
       " <matplotlib.lines.Line2D at 0x2130ad84c10>,\n",
       " <matplotlib.lines.Line2D at 0x2130ad84d00>,\n",
       " <matplotlib.lines.Line2D at 0x2130ad84dc0>,\n",
       " <matplotlib.lines.Line2D at 0x2130ad84e80>,\n",
       " <matplotlib.lines.Line2D at 0x2130ad84f40>,\n",
       " <matplotlib.lines.Line2D at 0x2130ad94040>,\n",
       " <matplotlib.lines.Line2D at 0x2130ad94100>,\n",
       " <matplotlib.lines.Line2D at 0x2130ad941c0>]"
      ]
     },
     "execution_count": 48,
     "metadata": {},
     "output_type": "execute_result"
    },
    {
     "data": {
      "image/png": "[encoded data removed]",
      "text/plain": [
       "<Figure size 432x288 with 1 Axes>"
      ]
     },
     "metadata": {
      "needs_background": "light"
     },
     "output_type": "display_data"
    }
   ],
   "source": [
    "plt.plot(x_cum)"
   ]
  },
  {
   "cell_type": "code",
   "execution_count": 49,
   "metadata": {},
   "outputs": [],
   "source": [
    "mat_B = np.arange(12).reshape((3,4))\n",
    "vec_x = np.arange(4)\n",
    "vec_y = np.arange(3)"
   ]
  },
  {
   "cell_type": "code",
   "execution_count": 50,
   "metadata": {},
   "outputs": [
    {
     "name": "stdout",
     "output_type": "stream",
     "text": [
      "[[ 0  1  2  3]\n",
      " [ 4  5  6  7]\n",
      " [ 8  9 10 11]\n",
      " [ 0  1  2  3]\n",
      " [ 4  5  6  7]\n",
      " [ 8  9 10 11]]\n",
      "[[ 0  1  2  3]\n",
      " [ 4  5  6  7]\n",
      " [ 8  9 10 11]\n",
      " [ 0  1  2  3]]\n"
     ]
    }
   ],
   "source": [
    "print(np.vstack([mat_B, mat_B]))\n",
    "print(np.vstack([mat_B, vec_x]))"
   ]
  },
  {
   "cell_type": "code",
   "execution_count": 53,
   "metadata": {},
   "outputs": [
    {
     "name": "stdout",
     "output_type": "stream",
     "text": [
      "[[ 0  1  2  3  0  1  2  3]\n",
      " [ 4  5  6  7  4  5  6  7]\n",
      " [ 8  9 10 11  8  9 10 11]]\n",
      "[[ 0  1  2  3  0]\n",
      " [ 4  5  6  7  1]\n",
      " [ 8  9 10 11  2]]\n"
     ]
    }
   ],
   "source": [
    "print(np.hstack([mat_B, mat_B]))\n",
    "#print(np.hstack([mat_B, vec_y]))\n",
    "print(np.hstack([mat_B, vec_y[:,None]]))"
   ]
  },
  {
   "cell_type": "markdown",
   "metadata": {
    "collapsed": true
   },
   "source": [
    "# Vectorization is fast\n",
    "* Using `for` or `while` loop is very slow\n",
    "* Always find proper vectorization operation"
   ]
  },
  {
   "cell_type": "code",
   "execution_count": 56,
   "metadata": {},
   "outputs": [
    {
     "data": {
      "text/plain": [
       "array([[ 0.51091086,  1.79944389,  2.57719687,  0.63667954, -1.84273684],\n",
       "       [ 1.65113402, -0.78523671, -0.36531796,  0.85003616, -0.04285484],\n",
       "       [ 2.66101038, -1.76015158,  0.61143435, -0.78472939, -1.79784352],\n",
       "       ...,\n",
       "       [-0.79506105, -0.00790622,  0.91604258,  1.30674118, -0.70077873],\n",
       "       [ 0.41936885, -1.14420119, -0.95121722,  0.90970988,  0.70943812],\n",
       "       [-0.67979523,  0.98613764, -1.04963555,  1.06600832, -0.45826278]])"
      ]
     },
     "execution_count": 56,
     "metadata": {},
     "output_type": "execute_result"
    }
   ],
   "source": [
    "# We're going to simulate the mean of the maximum of 20 normal distribution.\n",
    "nn = 100000\n",
    "x_norm = np.random.normal(size=(nn,5))\n",
    "x_norm"
   ]
  },
  {
   "cell_type": "markdown",
   "metadata": {},
   "source": [
    "### Using `for` loop"
   ]
  },
  {
   "cell_type": "code",
   "execution_count": 59,
   "metadata": {},
   "outputs": [
    {
     "name": "stdout",
     "output_type": "stream",
     "text": [
      "mean=1.1601415226444582, time=0.18435980000003838\n"
     ]
    }
   ],
   "source": [
    "start_time = timeit.default_timer()\n",
    "x_max = np.ones(x_norm.shape[0])\n",
    "for k in range(nn):\n",
    "    x_max[k] = max(x_norm[k,:])\n",
    "val = x_max.mean()\n",
    "elapsed = timeit.default_timer() - start_time\n",
    "print(f'mean={val}, time={elapsed}')"
   ]
  },
  {
   "cell_type": "markdown",
   "metadata": {},
   "source": [
    "### Vectorized Version"
   ]
  },
  {
   "cell_type": "code",
   "execution_count": 60,
   "metadata": {},
   "outputs": [
    {
     "name": "stdout",
     "output_type": "stream",
     "text": [
      "mean=1.1601415226444582, time=0.005948500000158674\n"
     ]
    }
   ],
   "source": [
    "start_time = timeit.default_timer()\n",
    "val = np.amax(x_norm, axis=1).mean()\n",
    "elapsed = timeit.default_timer() - start_time\n",
    "print(f'mean={val}, time={elapsed}')"
   ]
  },
  {
   "cell_type": "code",
   "execution_count": null,
   "metadata": {},
   "outputs": [],
   "source": []
  },
  {
   "cell_type": "markdown",
   "metadata": {},
   "source": [
    "## Array view and Copy\n",
    "* Array is view shares the same memory space\n",
    "* Any change in the view will make the same change in the original array"
   ]
  },
  {
   "cell_type": "code",
   "execution_count": 65,
   "metadata": {},
   "outputs": [
    {
     "name": "stdout",
     "output_type": "stream",
     "text": [
      "[[ 0  1  2  3]\n",
      " [ 4  5  6  7]\n",
      " [ 8  9 10 11]]\n"
     ]
    }
   ],
   "source": [
    "mat_B = np.arange(12).reshape((3,4))\n",
    "print(mat_B)\n",
    "#vec_x = mat_B[1,]\n",
    "vec_x = mat_B[1,].copy()\n",
    "#print(mat_B, vec_x)"
   ]
  },
  {
   "cell_type": "code",
   "execution_count": 66,
   "metadata": {},
   "outputs": [],
   "source": [
    "vec_x[2] = -99"
   ]
  },
  {
   "cell_type": "code",
   "execution_count": 67,
   "metadata": {},
   "outputs": [
    {
     "name": "stdout",
     "output_type": "stream",
     "text": [
      "[[ 0  1  2  3]\n",
      " [ 4  5  6  7]\n",
      " [ 8  9 10 11]] [  4   5 -99   7]\n"
     ]
    }
   ],
   "source": [
    "print(mat_B, vec_x)"
   ]
  },
  {
   "cell_type": "code",
   "execution_count": 75,
   "metadata": {},
   "outputs": [
    {
     "name": "stdout",
     "output_type": "stream",
     "text": [
      "[[  0   1   2   3]\n",
      " [  4 -99   6   7]\n",
      " [  8   9  10  11]] \n",
      "\n",
      " [[  0   1   2   3]\n",
      " [  4 -99   6   7]\n",
      " [  8   9  10  11]]\n"
     ]
    }
   ],
   "source": [
    "# mat_C is not a view\n",
    "mat_B = np.arange(12).reshape((3,4))\n",
    "mat_C = mat_B\n",
    "mat_C[1,1] = -99\n",
    "print(mat_B, \"\\n\\n\", mat_C)"
   ]
  },
  {
   "cell_type": "code",
   "execution_count": null,
   "metadata": {},
   "outputs": [],
   "source": []
  }
 ],
 "metadata": {
  "anaconda-cloud": {},
  "kernelspec": {
   "display_name": "Python 3",
   "language": "python",
   "name": "python3"
  },
  "language_info": {
   "codemirror_mode": {
    "name": "ipython",
    "version": 3
   },
   "file_extension": ".py",
   "mimetype": "text/x-python",
   "name": "python",
   "nbconvert_exporter": "python",
   "pygments_lexer": "ipython3",
   "version": "3.8.10"
  }
 },
 "nbformat": 4,
 "nbformat_minor": 1
}
